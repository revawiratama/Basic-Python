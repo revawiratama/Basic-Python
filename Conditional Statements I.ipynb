{
 "cells": [
  {
   "cell_type": "markdown",
   "metadata": {},
   "source": [
    "# CONDITIONAL STATEMENTS"
   ]
  },
  {
   "cell_type": "markdown",
   "metadata": {},
   "source": [
    "Conditional statements are statements that control the order of program execution. They are one of the most important concepts that make programming what it is. By specifying conditions, the program is executed with even more dynamism and more automation is possible. Based on what the conditional statements evaluates, the next instruction/set of instructions specified is/are executed.\n",
    "\n",
    "## If, elif and else\n",
    "The if, elif and else keywords are used to specify conditional logic. The conditional statements specified by these keywords evaluate to boolean values True or False. They are used for executing decision making processes. \n",
    "\n",
    "#### Pseudocode\n",
    "\n",
    "**if** statement1 is true:\n",
    "\n",
    "\texecute this line of code\n",
    "**elif** statement2 is true:\n",
    "\n",
    "\texecute this line of code\n",
    "**elif** statement3 is true:\n",
    "\n",
    "\texecute this line of code\n",
    "...\n",
    "\n",
    "...\n",
    "\n",
    "...\n",
    "\n",
    "**else**:\n",
    "\n",
    "\texecute  this since other conditional statements evaluate to false\n",
    "\n",
    "From the above, the if statement is used to start a conditional statement declaration. If the statement evaluates to true, the next line of code under this block is executed, if not, the line is skipped to the next. The implementation could be a single if statement, or accompanied by multiple other elif statements.\n",
    "The elif statements which follow the if statements are used for adding addition\n",
    "\n",
    "The most basic form of control using conditional statements is with Boolean values\n",
    "\n",
    "#### Example"
   ]
  },
  {
   "cell_type": "code",
   "execution_count": 1,
   "metadata": {},
   "outputs": [
    {
     "name": "stdout",
     "output_type": "stream",
     "text": [
      "Yes, True\n"
     ]
    }
   ],
   "source": [
    "if True:\n",
    "    print('Yes, True')"
   ]
  },
  {
   "cell_type": "code",
   "execution_count": 2,
   "metadata": {},
   "outputs": [],
   "source": [
    "if False:\n",
    "    print('Yes, False')"
   ]
  },
  {
   "cell_type": "code",
   "execution_count": 3,
   "metadata": {},
   "outputs": [],
   "source": [
    "username = None\n",
    "\n",
    "if username:\n",
    "    print('Welcome', username)"
   ]
  },
  {
   "cell_type": "code",
   "execution_count": 4,
   "metadata": {},
   "outputs": [
    {
     "name": "stdout",
     "output_type": "stream",
     "text": [
      "Welcome, NAPE\n"
     ]
    }
   ],
   "source": [
    "username = \"NAPE\"\n",
    "\n",
    "if username:\n",
    "    print('Welcome,', username)\n",
    "else:\n",
    "    print('No username found, enter username')"
   ]
  },
  {
   "cell_type": "code",
   "execution_count": 5,
   "metadata": {},
   "outputs": [
    {
     "name": "stdout",
     "output_type": "stream",
     "text": [
      "1 is greater than 0\n"
     ]
    }
   ],
   "source": [
    "if 1 > 0:\n",
    "    print(\"1 is greater than 0\")"
   ]
  },
  {
   "cell_type": "code",
   "execution_count": 6,
   "metadata": {},
   "outputs": [
    {
     "name": "stdout",
     "output_type": "stream",
     "text": [
      "1 is lesser than 2\n"
     ]
    }
   ],
   "source": [
    "if 1 > 2:\n",
    "    print(\"1 is greater than 2\")\n",
    "elif 1 < 2:\n",
    "    print(\"1 is lesser than 2\")"
   ]
  },
  {
   "cell_type": "code",
   "execution_count": 7,
   "metadata": {},
   "outputs": [
    {
     "name": "stdout",
     "output_type": "stream",
     "text": [
      "1 is neither greater than 2 nor equal to 2\n"
     ]
    }
   ],
   "source": [
    "if 1 > 2:\n",
    "    print(\"1 is greater than 2\")\n",
    "elif 1 == 2:\n",
    "    print(\"1 is the same thing as 2\")\n",
    "else:\n",
    "    print(\"1 is neither greater than 2 nor equal to 2\")"
   ]
  },
  {
   "cell_type": "markdown",
   "metadata": {},
   "source": [
    "### Nested ifs\n",
    "\n",
    "This refers to conditional statements nested in another conditional statement block\n",
    "\n",
    "#### Example"
   ]
  },
  {
   "cell_type": "code",
   "execution_count": 8,
   "metadata": {},
   "outputs": [
    {
     "name": "stdout",
     "output_type": "stream",
     "text": [
      "Employee test score is lower than pass mark. No consideration for promotion\n",
      "Employee's current level is 18\n"
     ]
    }
   ],
   "source": [
    "passmark = 70\n",
    "score = 7\n",
    "level = 18\n",
    "\n",
    "if score > passmark:\n",
    "    print(\"Employee score is greater than the pass mark:\", passmark)\n",
    "    \n",
    "    if level < 9:\n",
    "        print('Employee is promoted to Level 9')\n",
    "        \n",
    "        level = 9\n",
    "    \n",
    "    elif level == 9:\n",
    "        print('Employee is due for promotion in a year')\n",
    "        \n",
    "    else:\n",
    "        print('Boss level >>>>>')\n",
    "        \n",
    "else:\n",
    "    print(\"Employee test score is lower than pass mark. No consideration for promotion\")\n",
    "        \n",
    "print(\"Employee's current level is\", level)"
   ]
  },
  {
   "cell_type": "code",
   "execution_count": null,
   "metadata": {},
   "outputs": [],
   "source": []
  }
 ],
 "metadata": {
  "kernelspec": {
   "display_name": "Python 3",
   "language": "python",
   "name": "python3"
  },
  "language_info": {
   "codemirror_mode": {
    "name": "ipython",
    "version": 3
   },
   "file_extension": ".py",
   "mimetype": "text/x-python",
   "name": "python",
   "nbconvert_exporter": "python",
   "pygments_lexer": "ipython3",
   "version": "3.8.8"
  }
 },
 "nbformat": 4,
 "nbformat_minor": 4
}
