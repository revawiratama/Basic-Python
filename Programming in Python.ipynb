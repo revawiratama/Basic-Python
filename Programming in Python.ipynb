{
 "cells": [
  {
   "cell_type": "markdown",
   "metadata": {},
   "source": [
    "# Programming in Python"
   ]
  },
  {
   "cell_type": "markdown",
   "metadata": {},
   "source": [
    "Python is an interpreted language; program execution follows a line by line order. This brings us to the programming paradigm in Python"
   ]
  },
  {
   "cell_type": "markdown",
   "metadata": {},
   "source": [
    "### Procedural Programming"
   ]
  },
  {
   "cell_type": "markdown",
   "metadata": {},
   "source": [
    "This follows a sequence whereby codes are written line by line using procedures and functions. Codes are written line after line to perform a task. Functions, variables and statements are separate."
   ]
  },
  {
   "cell_type": "code",
   "execution_count": 1,
   "metadata": {},
   "outputs": [
    {
     "name": "stdout",
     "output_type": "stream",
     "text": [
      "533.096856\n"
     ]
    }
   ],
   "source": [
    "# code to find the product of the area of a circle and its perimiter\n",
    "\n",
    "#r is the radius of the perimeter\n",
    "\n",
    "r = 3 \n",
    "area = 3.142 * r * r\n",
    "perimeter = 2 * 3.142 * r\n",
    "\n",
    "product = area * perimeter\n",
    "\n",
    "print(product)"
   ]
  },
  {
   "cell_type": "markdown",
   "metadata": {},
   "source": [
    "#### Advantages of Procedural Programming"
   ]
  },
  {
   "cell_type": "markdown",
   "metadata": {},
   "source": [
    "- Easy to learn and implement\n",
    "- Simplistic\n"
   ]
  },
  {
   "cell_type": "markdown",
   "metadata": {},
   "source": [
    "#### Disadvantages"
   ]
  },
  {
   "cell_type": "markdown",
   "metadata": {},
   "source": [
    "- Hard to implement in other programs\n",
    "- Difficult in debugging when code gets too bulky\n",
    "- Prevents teamwork, collaborations and good software practices"
   ]
  },
  {
   "cell_type": "markdown",
   "metadata": {},
   "source": [
    "### Object Oriented Programming"
   ]
  },
  {
   "cell_type": "markdown",
   "metadata": {},
   "source": [
    "While code still follows a line by line execution method, codes are structured into objects. Objects are created with the class keyword, and related functions (methods) used to solve a task are bundled into a class. This comes with a number of advantages which will be explained better later in the “Modules and Libraries” part of the course."
   ]
  },
  {
   "cell_type": "code",
   "execution_count": 2,
   "metadata": {},
   "outputs": [],
   "source": [
    "class ProductCircle():\n",
    "    \n",
    "    def __init__(self, r):\n",
    "        self.r = r\n",
    "        \n",
    "    def __call__(self):\n",
    "        \n",
    "        area = self.area()\n",
    "        perimeter = self.perimeter()\n",
    "        \n",
    "        return (area * perimeter)\n",
    "        \n",
    "    def area(self):\n",
    "        \n",
    "        return (3.142 * self.r * self.r)\n",
    "    \n",
    "    def perimeter(self):\n",
    "        \n",
    "        return (2 * 3.142 * self.r)"
   ]
  },
  {
   "cell_type": "code",
   "execution_count": 3,
   "metadata": {},
   "outputs": [],
   "source": [
    "product = ProductCircle(3)"
   ]
  },
  {
   "cell_type": "code",
   "execution_count": 4,
   "metadata": {},
   "outputs": [
    {
     "data": {
      "text/plain": [
       "533.096856"
      ]
     },
     "execution_count": 4,
     "metadata": {},
     "output_type": "execute_result"
    }
   ],
   "source": [
    "product()"
   ]
  },
  {
   "cell_type": "markdown",
   "metadata": {},
   "source": [
    "#### Advantages of OOP"
   ]
  },
  {
   "cell_type": "markdown",
   "metadata": {},
   "source": [
    "* Great for software development\n",
    "- Allows for code reusability and reduces code redundancy\n",
    "- Allows for collaborations and better open source contributions\n",
    "- Allows for data security through abstraction, encapsulation and other OOP pillars"
   ]
  },
  {
   "cell_type": "markdown",
   "metadata": {},
   "source": [
    "#### Disadvantages of OOP"
   ]
  },
  {
   "cell_type": "markdown",
   "metadata": {},
   "source": [
    "- Steep learning curve\n",
    "- Difficult to learn for beginners\n",
    "- Complex programming techniques"
   ]
  },
  {
   "cell_type": "markdown",
   "metadata": {},
   "source": [
    "From the above code illustrations, even while the problem was solved with different code implementations we arrived at the same output. The advantages of each method are also highlighted above."
   ]
  },
  {
   "cell_type": "markdown",
   "metadata": {},
   "source": [
    "Let's look at some operators in Python\n",
    "\n",
    "**Mathematical Operators**\n",
    "* Addition: +\n",
    "* Subtraction: -\n",
    "* Multiplication: *\n",
    "* Division: /\n",
    "* Modulus: % (returns the remainder of a division process)\n",
    "* Exponent: **\n",
    "* Floor Division: // (returns the nearest whole number after division in integer)"
   ]
  },
  {
   "cell_type": "code",
   "execution_count": 5,
   "metadata": {},
   "outputs": [
    {
     "data": {
      "text/plain": [
       "7"
      ]
     },
     "execution_count": 5,
     "metadata": {},
     "output_type": "execute_result"
    }
   ],
   "source": [
    "2 + 5"
   ]
  },
  {
   "cell_type": "code",
   "execution_count": 6,
   "metadata": {},
   "outputs": [
    {
     "data": {
      "text/plain": [
       "3"
      ]
     },
     "execution_count": 6,
     "metadata": {},
     "output_type": "execute_result"
    }
   ],
   "source": [
    "13%5"
   ]
  },
  {
   "cell_type": "code",
   "execution_count": 7,
   "metadata": {},
   "outputs": [
    {
     "data": {
      "text/plain": [
       "2"
      ]
     },
     "execution_count": 7,
     "metadata": {},
     "output_type": "execute_result"
    }
   ],
   "source": [
    "9//4"
   ]
  },
  {
   "cell_type": "markdown",
   "metadata": {},
   "source": [
    "**Assignment Operators**\n",
    "\n",
    "* +=: adds right hand value of the operand to the left and assigns the value to the left value\n",
    "* -=: subtract right hand value of the operand to the left and assigns the value to the left value\n",
    "* *=: multiplies right hand value of the operand to the left and assigns the value to the left value\n",
    "* /=: divides right hand value of the operand to the left and assigns the value to the left value"
   ]
  },
  {
   "cell_type": "code",
   "execution_count": 8,
   "metadata": {},
   "outputs": [
    {
     "name": "stdout",
     "output_type": "stream",
     "text": [
      "15\n"
     ]
    }
   ],
   "source": [
    "a = 5\n",
    "b = 10\n",
    "\n",
    "a += b\n",
    "print(a)"
   ]
  },
  {
   "cell_type": "code",
   "execution_count": 9,
   "metadata": {},
   "outputs": [
    {
     "name": "stdout",
     "output_type": "stream",
     "text": [
      "15\n"
     ]
    }
   ],
   "source": [
    "a = 5\n",
    "b = 10\n",
    "\n",
    "a = a + b\n",
    "print(a)"
   ]
  },
  {
   "cell_type": "markdown",
   "metadata": {},
   "source": [
    "**Comparison Operators**\n",
    "* \\>: Greater than\n",
    "* <: Lesser than\n",
    "* == : is equal to (compares values of two objects)\n",
    "* is :  is the same thing as (to check identity)\n",
    "* \\>=: greater than or equal to\n",
    "* <=: lesser than or equal to\n",
    "* !=: not equal to\n",
    "* <>: not equal to\n",
    "\n",
    "Comparison operators evaluates to True or False"
   ]
  },
  {
   "cell_type": "code",
   "execution_count": 10,
   "metadata": {},
   "outputs": [
    {
     "data": {
      "text/plain": [
       "True"
      ]
     },
     "execution_count": 10,
     "metadata": {},
     "output_type": "execute_result"
    }
   ],
   "source": [
    "5 > 4"
   ]
  },
  {
   "cell_type": "code",
   "execution_count": 11,
   "metadata": {},
   "outputs": [
    {
     "data": {
      "text/plain": [
       "True"
      ]
     },
     "execution_count": 11,
     "metadata": {},
     "output_type": "execute_result"
    }
   ],
   "source": [
    "a = []  # this is an example of a list which will be covered in the next sections.\n",
    "b = []\n",
    "\n",
    "a == b"
   ]
  },
  {
   "cell_type": "code",
   "execution_count": 12,
   "metadata": {},
   "outputs": [
    {
     "data": {
      "text/plain": [
       "False"
      ]
     },
     "execution_count": 12,
     "metadata": {},
     "output_type": "execute_result"
    }
   ],
   "source": [
    "a is b"
   ]
  },
  {
   "cell_type": "markdown",
   "metadata": {},
   "source": [
    "**Logical Operators**\n",
    "\n",
    "Commonly used to evaluate the validity of two or more statements\n",
    "* and: evaluates to True if both operands are True\n",
    "* or: evaluates to True if any of the operands is True\n",
    "* Not: evaluates to True if the operand is False\n",
    "\n",
    "More on this will be covered in the **Conditional Statements** part of the course"
   ]
  },
  {
   "cell_type": "markdown",
   "metadata": {},
   "source": []
  }
 ],
 "metadata": {
  "kernelspec": {
   "display_name": "Python 3",
   "language": "python",
   "name": "python3"
  },
  "language_info": {
   "codemirror_mode": {
    "name": "ipython",
    "version": 3
   },
   "file_extension": ".py",
   "mimetype": "text/x-python",
   "name": "python",
   "nbconvert_exporter": "python",
   "pygments_lexer": "ipython3",
   "version": "3.8.5"
  }
 },
 "nbformat": 4,
 "nbformat_minor": 4
}
