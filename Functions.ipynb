{
 "cells": [
  {
   "cell_type": "markdown",
   "metadata": {},
   "source": [
    "# FUNCTIONS"
   ]
  },
  {
   "cell_type": "markdown",
   "metadata": {},
   "source": [
    "Functions are created for code reusability. They are used to eliminate repetition of codes. They are blocks of codes that only run when they are “called”. This helps to reduce code redundancy and to save time and memory. A function is written when there’s a need to perform a particular task more than once in a program. Functions could also be reused in a different program entirely by importing them.\n",
    "\n",
    "### Defining functions\n",
    "Functions are defined or created with the def keyword. This is followed by the name assigned or given to the function. Functions also take in arguments that are assigned values which are called parameters. These arguments and parameters are the data required to make the function operationable. The return keyword is used to return a value/data when a function is called. The line with the return value in a defined function is taken to be the last line of the function. It’s not compulsory to have a return value for all functions.\n",
    "\n",
    "#### Pseudocode\n",
    "\n",
    "def  functionName(parameter1, parameter2 …. parameterX):\n",
    "\t\n",
    "    line of code\n",
    "\t\n",
    "\tline of code\n",
    "    \n",
    "    ------------\n",
    "    \n",
    "    ------------\n",
    "\n",
    "\treturn value\n",
    "    \n",
    "### Docstrings\n",
    "\n",
    "Docstrings refers to multiline comments found at the top of the function block code which helps users to understand what the comment is about. It contains information about what the function does, the arguments it takes and what the function returns. In jupyter notebook, the docstrings for functions and methods could be found by using the **shift** + **tab** buttons inside the enclosed parenthesis of the function/method.\n",
    "    \n",
    "**Example**:\n",
    "\n",
    "Let's write a simple function to always find the the product of the addition and subtraction of two numbers"
   ]
  },
  {
   "cell_type": "code",
   "execution_count": 1,
   "metadata": {},
   "outputs": [
    {
     "data": {
      "text/plain": [
       "-48"
      ]
     },
     "execution_count": 1,
     "metadata": {},
     "output_type": "execute_result"
    }
   ],
   "source": [
    "# Without a function\n",
    "\n",
    "x = 4\n",
    "y = 8\n",
    "\n",
    "total = x + y\n",
    "subtraction = x - y\n",
    "\n",
    "product = total * subtraction\n",
    "\n",
    "product"
   ]
  },
  {
   "cell_type": "markdown",
   "metadata": {},
   "source": [
    "Now imagine having to do this multiple times in a program"
   ]
  },
  {
   "cell_type": "code",
   "execution_count": 2,
   "metadata": {},
   "outputs": [],
   "source": [
    "#With a function\n",
    "\n",
    "def find_product(value1, value2):\n",
    "    \n",
    "    '''\n",
    "    Function to find the product of the addition and subtraction of two numbers\n",
    "    \n",
    "    Arguments\n",
    "    ---------\n",
    "    value1: first value\n",
    "    value2: second value\n",
    "    \n",
    "    Returns\n",
    "    -------\n",
    "    Product of the addition and subtraction of two numbers\n",
    "    '''\n",
    "    \n",
    "    total = value1 + value2\n",
    "    subtraction = value1 - value2\n",
    "    \n",
    "    product = total * subtraction\n",
    "    \n",
    "    return product"
   ]
  },
  {
   "cell_type": "code",
   "execution_count": 3,
   "metadata": {},
   "outputs": [
    {
     "data": {
      "text/plain": [
       "-48"
      ]
     },
     "execution_count": 3,
     "metadata": {},
     "output_type": "execute_result"
    }
   ],
   "source": [
    "find_product(value1=4, value2=8)"
   ]
  },
  {
   "cell_type": "code",
   "execution_count": 4,
   "metadata": {},
   "outputs": [
    {
     "data": {
      "text/plain": [
       "-15"
      ]
     },
     "execution_count": 4,
     "metadata": {},
     "output_type": "execute_result"
    }
   ],
   "source": [
    "find_product(7, 8)"
   ]
  },
  {
   "cell_type": "markdown",
   "metadata": {},
   "source": [
    "Notice we didn't have to indicate the arguments (value1 and value2) before passing our parameters because the interpreter automatically takes it in like that"
   ]
  },
  {
   "cell_type": "markdown",
   "metadata": {},
   "source": [
    "### Default Parameters\n",
    "\n",
    "Default parameters are values assigned to arguments passed during a function definition. This is useful in cases where the program or user does not necessarily have to pass a value to get a function to work. This helps to prevent the function/program from throwing back an error.\n",
    "\n",
    "#### Example"
   ]
  },
  {
   "cell_type": "code",
   "execution_count": 5,
   "metadata": {},
   "outputs": [],
   "source": [
    "def default_example(value1, value2, value3=None):\n",
    "    \n",
    "    '''\n",
    "    Function to find the product of two or three numbers\n",
    "    '''\n",
    "    \n",
    "    if value3:\n",
    "        product = value1 * value2 * value3\n",
    "    elif value3 == None:\n",
    "        product = value1 * value2\n",
    "        \n",
    "    return product"
   ]
  },
  {
   "cell_type": "markdown",
   "metadata": {},
   "source": [
    "So in this case, instead of writing two different functions for find the product of two or three numbers, it has been compiled into a single one also with the help of the conditional statement. At first look, the role of the default parameter might seem insignificant because of the if statements, but without it, the product would have returned a **NoneType** error if the product of two numbers was requested for"
   ]
  },
  {
   "cell_type": "code",
   "execution_count": 6,
   "metadata": {},
   "outputs": [
    {
     "ename": "TypeError",
     "evalue": "unsupported operand type(s) for *: 'int' and 'NoneType'",
     "output_type": "error",
     "traceback": [
      "\u001b[1;31m---------------------------------------------------------------------------\u001b[0m",
      "\u001b[1;31mTypeError\u001b[0m                                 Traceback (most recent call last)",
      "\u001b[1;32m<ipython-input-6-4380e168e4b7>\u001b[0m in \u001b[0;36m<module>\u001b[1;34m\u001b[0m\n\u001b[1;32m----> 1\u001b[1;33m \u001b[1;36m3\u001b[0m \u001b[1;33m*\u001b[0m \u001b[1;36m4\u001b[0m \u001b[1;33m*\u001b[0m \u001b[1;32mNone\u001b[0m\u001b[1;33m\u001b[0m\u001b[1;33m\u001b[0m\u001b[0m\n\u001b[0m",
      "\u001b[1;31mTypeError\u001b[0m: unsupported operand type(s) for *: 'int' and 'NoneType'"
     ]
    }
   ],
   "source": [
    "3 * 4 * None"
   ]
  },
  {
   "cell_type": "code",
   "execution_count": 7,
   "metadata": {},
   "outputs": [
    {
     "data": {
      "text/plain": [
       "12"
      ]
     },
     "execution_count": 7,
     "metadata": {},
     "output_type": "execute_result"
    }
   ],
   "source": [
    "default_example(3, 4)"
   ]
  },
  {
   "cell_type": "code",
   "execution_count": 8,
   "metadata": {},
   "outputs": [
    {
     "data": {
      "text/plain": [
       "60"
      ]
     },
     "execution_count": 8,
     "metadata": {},
     "output_type": "execute_result"
    }
   ],
   "source": [
    "default_example(3, 4, 5)"
   ]
  },
  {
   "cell_type": "markdown",
   "metadata": {},
   "source": [
    "So in summary, functions are used to wrap block of codes for resuability to make programming easier and even better readable. In the next section, we will talk about how we can use functions in other programs. "
   ]
  },
  {
   "cell_type": "code",
   "execution_count": null,
   "metadata": {},
   "outputs": [],
   "source": []
  }
 ],
 "metadata": {
  "kernelspec": {
   "display_name": "Python 3",
   "language": "python",
   "name": "python3"
  },
  "language_info": {
   "codemirror_mode": {
    "name": "ipython",
    "version": 3
   },
   "file_extension": ".py",
   "mimetype": "text/x-python",
   "name": "python",
   "nbconvert_exporter": "python",
   "pygments_lexer": "ipython3",
   "version": "3.8.5"
  }
 },
 "nbformat": 4,
 "nbformat_minor": 4
}
