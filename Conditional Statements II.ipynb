{
 "cells": [
  {
   "cell_type": "markdown",
   "metadata": {},
   "source": [
    "# CONDITIONAL STATEMENTS II"
   ]
  },
  {
   "cell_type": "markdown",
   "metadata": {},
   "source": [
    "In the last section we got introduced to conditional statements. Conditional statements for making and executing logical decisions were covered. In this section, we will be covering conditional statements for task iteration and repetition.\n",
    "\n",
    "Loops are used for automating processes that are needed to take place more than one based on certain conditions.\n",
    "\n",
    "## For Loops\n",
    "Python for loops are used for iterating through a sequence of objects, a range of values or items in a data structure. They are useful in implementing processes that need to be done more than once. Rather than repeat the code for this multiple times, a for loop can be used for this. The **for** keyword is used with the **in** keyword when implementing a for loop.\n",
    "* Looping through strings\n",
    "* Looping through data structures\n",
    "* Looping through a sequence"
   ]
  },
  {
   "cell_type": "code",
   "execution_count": 1,
   "metadata": {},
   "outputs": [
    {
     "name": "stdout",
     "output_type": "stream",
     "text": [
      "P\n",
      "y\n",
      "t\n",
      "h\n",
      "o\n",
      "n\n"
     ]
    }
   ],
   "source": [
    "for i in \"Python\":\n",
    "    print(i)"
   ]
  },
  {
   "cell_type": "markdown",
   "metadata": {},
   "source": [
    "Example to find the count of letters in a word"
   ]
  },
  {
   "cell_type": "code",
   "execution_count": 2,
   "metadata": {},
   "outputs": [
    {
     "name": "stdout",
     "output_type": "stream",
     "text": [
      "The number of characters in the string is: 54\n"
     ]
    }
   ],
   "source": [
    "sentence = \"This is a long sequence of words used for this example\"\n",
    "count = 0\n",
    "\n",
    "for character in sentence:\n",
    "    count = count + 1\n",
    "    \n",
    "print(\"The number of characters in the string is:\", count)"
   ]
  },
  {
   "cell_type": "code",
   "execution_count": 3,
   "metadata": {},
   "outputs": [
    {
     "data": {
      "text/plain": [
       "[1, 2, 3, 4, 5, 6, 7, 8, 9]"
      ]
     },
     "execution_count": 3,
     "metadata": {},
     "output_type": "execute_result"
    }
   ],
   "source": [
    "list1 = list(range(1, 10))\n",
    "list1"
   ]
  },
  {
   "cell_type": "code",
   "execution_count": 4,
   "metadata": {},
   "outputs": [
    {
     "data": {
      "text/plain": [
       "[10, 11, 12, 13, 14, 15, 16, 17, 18, 19]"
      ]
     },
     "execution_count": 4,
     "metadata": {},
     "output_type": "execute_result"
    }
   ],
   "source": [
    "list2 = list(range(10, 20))\n",
    "list2"
   ]
  },
  {
   "cell_type": "code",
   "execution_count": 5,
   "metadata": {},
   "outputs": [
    {
     "data": {
      "text/plain": [
       "[1, 2, 3, 4, 5, 6, 7, 8, 9, 10, 11, 12, 13, 14, 15, 16, 17, 18, 19]"
      ]
     },
     "execution_count": 5,
     "metadata": {},
     "output_type": "execute_result"
    }
   ],
   "source": [
    "for i in list2:\n",
    "    list1.append(i)\n",
    "    \n",
    "list1"
   ]
  },
  {
   "cell_type": "code",
   "execution_count": 9,
   "metadata": {},
   "outputs": [
    {
     "name": "stdout",
     "output_type": "stream",
     "text": [
      "0\n",
      "1\n",
      "2\n",
      "3\n",
      "4\n",
      "5\n",
      "6\n",
      "7\n",
      "8\n",
      "9\n",
      "Value is greater than 8, stopping iteration...\n"
     ]
    }
   ],
   "source": [
    "for i in range(20):\n",
    "    print(i)\n",
    "    if i > 8:\n",
    "        print(\"Value is greater than 8, stopping iteration...\")\n",
    "        break"
   ]
  },
  {
   "cell_type": "markdown",
   "metadata": {},
   "source": [
    "### Nested for loops\n",
    "Just like nested if statements, nested for loops are also possible. They are for loops implemented inside another for loop block.\n",
    "\n",
    "Example to count the characters of strings in a list."
   ]
  },
  {
   "cell_type": "code",
   "execution_count": 10,
   "metadata": {},
   "outputs": [
    {
     "name": "stdout",
     "output_type": "stream",
     "text": [
      "Apples has 6 characters\n",
      "Bananas has 7 characters\n",
      "Coconut has 7 characters\n",
      "Grape has 5 characters\n"
     ]
    }
   ],
   "source": [
    "fruits = ['Apples', 'Bananas', 'Coconut', 'Grape']\n",
    "\n",
    "for fruit in fruits:\n",
    "    count = 0\n",
    "    for character in fruit:\n",
    "        count += 1\n",
    "        \n",
    "    print(fruit, \"has\", count, \"characters\")"
   ]
  },
  {
   "cell_type": "markdown",
   "metadata": {},
   "source": [
    "## While Loops\n",
    "\n",
    "Like for loops, while loops are used for program iteration. Unlike for loops however, while loops iteration depends on whether the condition evaluates to True or False. They are useful for automating processes that need to be run until a certain condition is met or not."
   ]
  },
  {
   "cell_type": "code",
   "execution_count": 16,
   "metadata": {},
   "outputs": [
    {
     "name": "stdout",
     "output_type": "stream",
     "text": [
      "i is currently 0\n",
      "i is currently 1\n",
      "i is currently 2\n",
      "i is currently 3\n",
      "i is currently 4\n",
      "i is currently 5\n",
      "i is currently 6\n",
      "i is currently 7\n",
      "i is currently 8\n",
      "i is currently 9\n"
     ]
    }
   ],
   "source": [
    "i = 0\n",
    "\n",
    "while i < 10:\n",
    "    print(\"i is currently\", i)\n",
    "    i += 1"
   ]
  },
  {
   "cell_type": "code",
   "execution_count": 17,
   "metadata": {},
   "outputs": [
    {
     "name": "stdout",
     "output_type": "stream",
     "text": [
      "i is currently 10\n",
      "i is currently 9\n",
      "i is currently 8\n",
      "i is currently 7\n",
      "i is currently 6\n",
      "i is currently 5\n",
      "i is currently 4\n",
      "i is currently 3\n",
      "i is currently 2\n",
      "i is currently 1\n"
     ]
    }
   ],
   "source": [
    "i = 10\n",
    "\n",
    "while i:\n",
    "    print(\"i is currently\", i)\n",
    "    i -= 1"
   ]
  },
  {
   "cell_type": "markdown",
   "metadata": {},
   "source": [
    "The while loops ends because the condition evaluates to False. Zero is assigned a boolean value of False"
   ]
  },
  {
   "cell_type": "code",
   "execution_count": null,
   "metadata": {},
   "outputs": [],
   "source": []
  }
 ],
 "metadata": {
  "kernelspec": {
   "display_name": "Python 3",
   "language": "python",
   "name": "python3"
  },
  "language_info": {
   "codemirror_mode": {
    "name": "ipython",
    "version": 3
   },
   "file_extension": ".py",
   "mimetype": "text/x-python",
   "name": "python",
   "nbconvert_exporter": "python",
   "pygments_lexer": "ipython3",
   "version": "3.8.5"
  }
 },
 "nbformat": 4,
 "nbformat_minor": 4
}
